{
 "cells": [
  {
   "cell_type": "markdown",
   "metadata": {},
   "source": [
    "## Tensorflow practice\n",
    "\n",
    "Examples from Tensorflow For Beginners"
   ]
  },
  {
   "cell_type": "code",
   "execution_count": 1,
   "metadata": {},
   "outputs": [
    {
     "name": "stdout",
     "output_type": "stream",
     "text": [
      "1.9.0\n"
     ]
    }
   ],
   "source": [
    "import numpy as np\n",
    "import tensorflow as tf\n",
    "import pandas as pd\n",
    "from pandas import DataFrame as DF\n",
    "import matplotlib.pyplot as plt\n",
    "from datetime import datetime as dt\n",
    "import os\n",
    "\n",
    "%matplotlib inline\n",
    "\n",
    "print(tf.__version__)"
   ]
  },
  {
   "cell_type": "markdown",
   "metadata": {},
   "source": [
    "## Tensors\n",
    "\n",
    "* N-Dimensional arrays\n",
    "* Measured by rank\n",
    "* All elements are of the same datatype"
   ]
  },
  {
   "cell_type": "code",
   "execution_count": 30,
   "metadata": {},
   "outputs": [
    {
     "name": "stdout",
     "output_type": "stream",
     "text": [
      "0\n",
      "1\n",
      "2\n",
      "3\n"
     ]
    }
   ],
   "source": [
    "# Rank 0\n",
    "print(np.array(1).ndim)\n",
    "\n",
    "# Rank 1\n",
    "print(np.array([1,2,3]).ndim)\n",
    "\n",
    "# Rank 2\n",
    "print(np.array([[1,2,3], [4,5,6]]).ndim)\n",
    "\n",
    "# Rank 3\n",
    "print(np.array([[[1,2,3], [4,5,6]]]).ndim)"
   ]
  },
  {
   "cell_type": "markdown",
   "metadata": {},
   "source": [
    "## Tensorflow Building Blocks\n",
    "\n",
    "### Lower level\n",
    "* Tensors\n",
    "\n",
    "* Operations\n",
    "\n",
    "* Graphs / sessions\n",
    "\n",
    "## Higher level\n",
    "* Loss functions\n",
    "\n",
    "* Optimizers\n",
    "\n",
    "* Layers\n",
    "\n",
    "* Estimators\n",
    "\n",
    "## Loss functions\n",
    "\n",
    "Differentiable functions that measure error between true and predicted values\n",
    "\n",
    "Examples of loss functions:\n",
    "* MSE\n",
    "\n",
    "* Log loss\n",
    "\n",
    "* Cross entropy ( binary, categorical )\n",
    "\n",
    "* Cosine distance\n",
    "\n",
    "## Optimizers\n",
    "\n",
    "Built-in optimizers inherit from Optimizer class\n",
    "\n",
    "Examples of optimizers:\n",
    "* Gradient Descent\n",
    "\n",
    "* Adam\n",
    "\n",
    "* RMSProp\n",
    "\n",
    "* Adagrad\n",
    "\n",
    "* Momentum\n",
    "\n",
    "* Adadelta\n",
    "\n",
    "Optimizers are algorithms that minimize the loss of a model through the loss function\n",
    "\n",
    "Take from a starting point on loss surface in high dimensional space and traverse the search space to reach global minimum\n",
    "\n",
    "## Layers\n",
    "\n",
    "Layers are collection of nodes that are composed of tensors and operations\n",
    "\n",
    "Normally connected in series but some models have them connected in parallel\n",
    "\n",
    "Tensorflow offers pre-built functions for creating layers in a model\n",
    "\n",
    "Examples of layers:\n",
    "* Input\n",
    "\n",
    "* Convolutional(1d, 2d, 3d)\n",
    "\n",
    "* Pooling\n",
    "\n",
    "* Dropout\n",
    "\n",
    "* Dense\n",
    "\n",
    "\n",
    "## Estimators\n",
    "\n",
    "Handles training, evaluation, prediction, building graph\n",
    "\n"
   ]
  },
  {
   "cell_type": "code",
   "execution_count": 31,
   "metadata": {},
   "outputs": [
    {
     "name": "stdout",
     "output_type": "stream",
     "text": [
      "7.5\n"
     ]
    }
   ],
   "source": [
    "# y = mx + b\n",
    "m = tf.constant(3.0, name=\"m\")\n",
    "b = tf.constant(1.5, name=\"b\")\n",
    "\n",
    "x = tf.placeholder(tf.float32, name=\"x\")\n",
    "\n",
    "y = m*x + b\n",
    "\n",
    "with tf.Session() as sess:\n",
    "    print(sess.run(y, feed_dict={x: 2}))\n",
    "    "
   ]
  },
  {
   "cell_type": "code",
   "execution_count": 32,
   "metadata": {},
   "outputs": [
    {
     "name": "stdout",
     "output_type": "stream",
     "text": [
      "(2, 2)\n",
      "(2,)\n",
      "[[ 6.  8.]\n",
      " [ 8. 10.]]\n",
      "[[ 5. 12.]\n",
      " [15. 24.]]\n",
      "[[17.]\n",
      " [39.]]\n"
     ]
    }
   ],
   "source": [
    "M = tf.constant([[1,2], [3,4]], dtype=tf.float32)\n",
    "V = tf.constant([5,6], dtype=tf.float32)\n",
    "M+V\n",
    "print(M.shape)\n",
    "print(V.shape)\n",
    "\n",
    "with tf.Session() as sess:\n",
    "    print(sess.run(M+V))\n",
    "    print(sess.run(M*V)) # unit wise multiplication\n",
    "    print(sess.run(tf.matmul(M, tf.reshape(V, (2,1))))) # matrix multiplication"
   ]
  },
  {
   "cell_type": "markdown",
   "metadata": {},
   "source": [
    "## Machine Learning Lifecycle\n",
    "\n",
    "* Define Objective\n",
    "\n",
    "* Collect data\n",
    "\n",
    "* Data Cleaning (handle missing values, extreme values ...)\n",
    "\n",
    "* EDA (Exploratory Data Analysis) ( understand structure and relationships within data; perform statistical analysis; data plots )\n",
    "\n",
    "* Data Processing ( structure data for models )\n",
    "\n",
    "* Train / eval models\n",
    "\n",
    "* Deploy\n",
    "\n",
    "* Monitor Results"
   ]
  },
  {
   "cell_type": "markdown",
   "metadata": {},
   "source": [
    "# ML lifecycle example"
   ]
  },
  {
   "cell_type": "markdown",
   "metadata": {},
   "source": [
    "## 1. Define Objective\n",
    "\n",
    "Objective: Infers how IQ, Years experience, and Age affects income using a Linear model"
   ]
  },
  {
   "cell_type": "markdown",
   "metadata": {},
   "source": [
    "## 2. Collect data"
   ]
  },
  {
   "cell_type": "code",
   "execution_count": 33,
   "metadata": {},
   "outputs": [],
   "source": [
    "# create dataset\n",
    "np.random.seed(555)\n",
    "# IQ\n",
    "X1 = np.random.normal(100, 15, 200).astype(int)\n",
    "# Years of experience\n",
    "X2 = np.random.normal(10, 4.5, 200).astype(int)\n",
    "# Age\n",
    "X3 = np.random.normal(32, 4, 200).astype(int)\n",
    "\n",
    "dob = np.datetime64('2017-10-31') - 365*X3\n",
    "b = 5\n",
    "er = np.random.normal(0, 1.5, 200)\n",
    "\n",
    "Y = np.array([0.3*x1 + 1.5*x2 + 0.83*x3 + b + e for x1,x2,x3,e, in zip(X1, X2, X3, er)])"
   ]
  },
  {
   "cell_type": "markdown",
   "metadata": {},
   "source": [
    "## 3. Data Cleaning"
   ]
  },
  {
   "cell_type": "code",
   "execution_count": 34,
   "metadata": {},
   "outputs": [
    {
     "name": "stdout",
     "output_type": "stream",
     "text": [
      "<class 'pandas.core.frame.DataFrame'>\n",
      "RangeIndex: 200 entries, 0 to 199\n",
      "Data columns (total 4 columns):\n",
      "iq                  200 non-null int64\n",
      "years_experience    200 non-null int64\n",
      "dob                 200 non-null datetime64[ns]\n",
      "income              200 non-null float64\n",
      "dtypes: datetime64[ns](1), float64(1), int64(2)\n",
      "memory usage: 6.3 KB\n"
     ]
    }
   ],
   "source": [
    "cols = [\"iq\", \"years_experience\", \"dob\"]\n",
    "df =  DF(list(zip(X1, X2, dob)), columns=cols)\n",
    "df['income'] = Y\n",
    "df.info()"
   ]
  },
  {
   "cell_type": "code",
   "execution_count": 35,
   "metadata": {},
   "outputs": [
    {
     "data": {
      "text/html": [
       "<div>\n",
       "<style scoped>\n",
       "    .dataframe tbody tr th:only-of-type {\n",
       "        vertical-align: middle;\n",
       "    }\n",
       "\n",
       "    .dataframe tbody tr th {\n",
       "        vertical-align: top;\n",
       "    }\n",
       "\n",
       "    .dataframe thead th {\n",
       "        text-align: right;\n",
       "    }\n",
       "</style>\n",
       "<table border=\"1\" class=\"dataframe\">\n",
       "  <thead>\n",
       "    <tr style=\"text-align: right;\">\n",
       "      <th></th>\n",
       "      <th>iq</th>\n",
       "      <th>years_experience</th>\n",
       "      <th>income</th>\n",
       "    </tr>\n",
       "  </thead>\n",
       "  <tbody>\n",
       "    <tr>\n",
       "      <th>count</th>\n",
       "      <td>200.000000</td>\n",
       "      <td>200.000000</td>\n",
       "      <td>200.000000</td>\n",
       "    </tr>\n",
       "    <tr>\n",
       "      <th>mean</th>\n",
       "      <td>98.895000</td>\n",
       "      <td>9.220000</td>\n",
       "      <td>74.445354</td>\n",
       "    </tr>\n",
       "    <tr>\n",
       "      <th>std</th>\n",
       "      <td>14.991253</td>\n",
       "      <td>4.575618</td>\n",
       "      <td>8.758692</td>\n",
       "    </tr>\n",
       "    <tr>\n",
       "      <th>min</th>\n",
       "      <td>62.000000</td>\n",
       "      <td>-5.000000</td>\n",
       "      <td>50.177009</td>\n",
       "    </tr>\n",
       "    <tr>\n",
       "      <th>25%</th>\n",
       "      <td>88.500000</td>\n",
       "      <td>6.000000</td>\n",
       "      <td>68.355058</td>\n",
       "    </tr>\n",
       "    <tr>\n",
       "      <th>50%</th>\n",
       "      <td>99.000000</td>\n",
       "      <td>10.000000</td>\n",
       "      <td>74.264406</td>\n",
       "    </tr>\n",
       "    <tr>\n",
       "      <th>75%</th>\n",
       "      <td>108.250000</td>\n",
       "      <td>12.000000</td>\n",
       "      <td>79.821947</td>\n",
       "    </tr>\n",
       "    <tr>\n",
       "      <th>max</th>\n",
       "      <td>134.000000</td>\n",
       "      <td>21.000000</td>\n",
       "      <td>98.020876</td>\n",
       "    </tr>\n",
       "  </tbody>\n",
       "</table>\n",
       "</div>"
      ],
      "text/plain": [
       "               iq  years_experience      income\n",
       "count  200.000000        200.000000  200.000000\n",
       "mean    98.895000          9.220000   74.445354\n",
       "std     14.991253          4.575618    8.758692\n",
       "min     62.000000         -5.000000   50.177009\n",
       "25%     88.500000          6.000000   68.355058\n",
       "50%     99.000000         10.000000   74.264406\n",
       "75%    108.250000         12.000000   79.821947\n",
       "max    134.000000         21.000000   98.020876"
      ]
     },
     "execution_count": 35,
     "metadata": {},
     "output_type": "execute_result"
    }
   ],
   "source": [
    "df.describe()"
   ]
  },
  {
   "cell_type": "code",
   "execution_count": 36,
   "metadata": {},
   "outputs": [
    {
     "data": {
      "text/html": [
       "<div>\n",
       "<style scoped>\n",
       "    .dataframe tbody tr th:only-of-type {\n",
       "        vertical-align: middle;\n",
       "    }\n",
       "\n",
       "    .dataframe tbody tr th {\n",
       "        vertical-align: top;\n",
       "    }\n",
       "\n",
       "    .dataframe thead th {\n",
       "        text-align: right;\n",
       "    }\n",
       "</style>\n",
       "<table border=\"1\" class=\"dataframe\">\n",
       "  <thead>\n",
       "    <tr style=\"text-align: right;\">\n",
       "      <th></th>\n",
       "      <th>iq</th>\n",
       "      <th>years_experience</th>\n",
       "      <th>income</th>\n",
       "    </tr>\n",
       "  </thead>\n",
       "  <tbody>\n",
       "    <tr>\n",
       "      <th>count</th>\n",
       "      <td>196.000000</td>\n",
       "      <td>196.000000</td>\n",
       "      <td>196.000000</td>\n",
       "    </tr>\n",
       "    <tr>\n",
       "      <th>mean</th>\n",
       "      <td>98.959184</td>\n",
       "      <td>9.454082</td>\n",
       "      <td>74.839390</td>\n",
       "    </tr>\n",
       "    <tr>\n",
       "      <th>std</th>\n",
       "      <td>14.769628</td>\n",
       "      <td>4.307767</td>\n",
       "      <td>8.365558</td>\n",
       "    </tr>\n",
       "    <tr>\n",
       "      <th>min</th>\n",
       "      <td>62.000000</td>\n",
       "      <td>0.000000</td>\n",
       "      <td>54.240093</td>\n",
       "    </tr>\n",
       "    <tr>\n",
       "      <th>25%</th>\n",
       "      <td>88.500000</td>\n",
       "      <td>6.000000</td>\n",
       "      <td>68.732449</td>\n",
       "    </tr>\n",
       "    <tr>\n",
       "      <th>50%</th>\n",
       "      <td>99.000000</td>\n",
       "      <td>10.000000</td>\n",
       "      <td>74.589067</td>\n",
       "    </tr>\n",
       "    <tr>\n",
       "      <th>75%</th>\n",
       "      <td>108.250000</td>\n",
       "      <td>12.250000</td>\n",
       "      <td>80.052339</td>\n",
       "    </tr>\n",
       "    <tr>\n",
       "      <th>max</th>\n",
       "      <td>134.000000</td>\n",
       "      <td>21.000000</td>\n",
       "      <td>98.020876</td>\n",
       "    </tr>\n",
       "  </tbody>\n",
       "</table>\n",
       "</div>"
      ],
      "text/plain": [
       "               iq  years_experience      income\n",
       "count  196.000000        196.000000  196.000000\n",
       "mean    98.959184          9.454082   74.839390\n",
       "std     14.769628          4.307767    8.365558\n",
       "min     62.000000          0.000000   54.240093\n",
       "25%     88.500000          6.000000   68.732449\n",
       "50%     99.000000         10.000000   74.589067\n",
       "75%    108.250000         12.250000   80.052339\n",
       "max    134.000000         21.000000   98.020876"
      ]
     },
     "execution_count": 36,
     "metadata": {},
     "output_type": "execute_result"
    }
   ],
   "source": [
    "df = df[df.years_experience >=0]\n",
    "df.describe()"
   ]
  },
  {
   "cell_type": "markdown",
   "metadata": {},
   "source": [
    "## 4. EDA"
   ]
  },
  {
   "cell_type": "code",
   "execution_count": 37,
   "metadata": {},
   "outputs": [
    {
     "data": {
      "text/html": [
       "<div>\n",
       "<style scoped>\n",
       "    .dataframe tbody tr th:only-of-type {\n",
       "        vertical-align: middle;\n",
       "    }\n",
       "\n",
       "    .dataframe tbody tr th {\n",
       "        vertical-align: top;\n",
       "    }\n",
       "\n",
       "    .dataframe thead th {\n",
       "        text-align: right;\n",
       "    }\n",
       "</style>\n",
       "<table border=\"1\" class=\"dataframe\">\n",
       "  <thead>\n",
       "    <tr style=\"text-align: right;\">\n",
       "      <th></th>\n",
       "      <th>dob</th>\n",
       "    </tr>\n",
       "  </thead>\n",
       "  <tbody>\n",
       "    <tr>\n",
       "      <th>count</th>\n",
       "      <td>196</td>\n",
       "    </tr>\n",
       "    <tr>\n",
       "      <th>unique</th>\n",
       "      <td>22</td>\n",
       "    </tr>\n",
       "    <tr>\n",
       "      <th>top</th>\n",
       "      <td>1986-11-08 00:00:00</td>\n",
       "    </tr>\n",
       "    <tr>\n",
       "      <th>freq</th>\n",
       "      <td>20</td>\n",
       "    </tr>\n",
       "    <tr>\n",
       "      <th>first</th>\n",
       "      <td>1975-11-11 00:00:00</td>\n",
       "    </tr>\n",
       "    <tr>\n",
       "      <th>last</th>\n",
       "      <td>1996-11-05 00:00:00</td>\n",
       "    </tr>\n",
       "  </tbody>\n",
       "</table>\n",
       "</div>"
      ],
      "text/plain": [
       "                        dob\n",
       "count                   196\n",
       "unique                   22\n",
       "top     1986-11-08 00:00:00\n",
       "freq                     20\n",
       "first   1975-11-11 00:00:00\n",
       "last    1996-11-05 00:00:00"
      ]
     },
     "execution_count": 37,
     "metadata": {},
     "output_type": "execute_result"
    }
   ],
   "source": [
    "df.describe(include=[\"datetime64\"])"
   ]
  },
  {
   "cell_type": "code",
   "execution_count": 38,
   "metadata": {},
   "outputs": [
    {
     "data": {
      "text/plain": [
       "array([[<matplotlib.axes._subplots.AxesSubplot object at 0x1233588d0>,\n",
       "        <matplotlib.axes._subplots.AxesSubplot object at 0x1233847b8>,\n",
       "        <matplotlib.axes._subplots.AxesSubplot object at 0x1233aec18>],\n",
       "       [<matplotlib.axes._subplots.AxesSubplot object at 0x1233de1d0>,\n",
       "        <matplotlib.axes._subplots.AxesSubplot object at 0x123406748>,\n",
       "        <matplotlib.axes._subplots.AxesSubplot object at 0x12342ccc0>],\n",
       "       [<matplotlib.axes._subplots.AxesSubplot object at 0x12345e278>,\n",
       "        <matplotlib.axes._subplots.AxesSubplot object at 0x123484828>,\n",
       "        <matplotlib.axes._subplots.AxesSubplot object at 0x123484860>]],\n",
       "      dtype=object)"
      ]
     },
     "execution_count": 38,
     "metadata": {},
     "output_type": "execute_result"
    },
    {
     "data": {
      "image/png": "[encoded data removed]",
      "text/plain": [
       "<Figure size 1152x648 with 9 Axes>"
      ]
     },
     "metadata": {
      "needs_background": "light"
     },
     "output_type": "display_data"
    }
   ],
   "source": [
    "pd.plotting.scatter_matrix(df, figsize=(16,9))"
   ]
  },
  {
   "cell_type": "code",
   "execution_count": 39,
   "metadata": {},
   "outputs": [
    {
     "data": {
      "text/html": [
       "<div>\n",
       "<style scoped>\n",
       "    .dataframe tbody tr th:only-of-type {\n",
       "        vertical-align: middle;\n",
       "    }\n",
       "\n",
       "    .dataframe tbody tr th {\n",
       "        vertical-align: top;\n",
       "    }\n",
       "\n",
       "    .dataframe thead th {\n",
       "        text-align: right;\n",
       "    }\n",
       "</style>\n",
       "<table border=\"1\" class=\"dataframe\">\n",
       "  <thead>\n",
       "    <tr style=\"text-align: right;\">\n",
       "      <th></th>\n",
       "      <th>iq</th>\n",
       "      <th>years_experience</th>\n",
       "      <th>income</th>\n",
       "    </tr>\n",
       "  </thead>\n",
       "  <tbody>\n",
       "    <tr>\n",
       "      <th>iq</th>\n",
       "      <td>1.000000</td>\n",
       "      <td>-0.075795</td>\n",
       "      <td>0.418676</td>\n",
       "    </tr>\n",
       "    <tr>\n",
       "      <th>years_experience</th>\n",
       "      <td>-0.075795</td>\n",
       "      <td>1.000000</td>\n",
       "      <td>0.758966</td>\n",
       "    </tr>\n",
       "    <tr>\n",
       "      <th>income</th>\n",
       "      <td>0.418676</td>\n",
       "      <td>0.758966</td>\n",
       "      <td>1.000000</td>\n",
       "    </tr>\n",
       "  </tbody>\n",
       "</table>\n",
       "</div>"
      ],
      "text/plain": [
       "                        iq  years_experience    income\n",
       "iq                1.000000         -0.075795  0.418676\n",
       "years_experience -0.075795          1.000000  0.758966\n",
       "income            0.418676          0.758966  1.000000"
      ]
     },
     "execution_count": 39,
     "metadata": {},
     "output_type": "execute_result"
    }
   ],
   "source": [
    "df.corr()"
   ]
  },
  {
   "cell_type": "markdown",
   "metadata": {},
   "source": [
    "## 5. Data processing / Feature engineering"
   ]
  },
  {
   "cell_type": "code",
   "execution_count": 40,
   "metadata": {},
   "outputs": [
    {
     "data": {
      "text/html": [
       "<div>\n",
       "<style scoped>\n",
       "    .dataframe tbody tr th:only-of-type {\n",
       "        vertical-align: middle;\n",
       "    }\n",
       "\n",
       "    .dataframe tbody tr th {\n",
       "        vertical-align: top;\n",
       "    }\n",
       "\n",
       "    .dataframe thead th {\n",
       "        text-align: right;\n",
       "    }\n",
       "</style>\n",
       "<table border=\"1\" class=\"dataframe\">\n",
       "  <thead>\n",
       "    <tr style=\"text-align: right;\">\n",
       "      <th></th>\n",
       "      <th>iq</th>\n",
       "      <th>years_experience</th>\n",
       "      <th>income</th>\n",
       "      <th>age</th>\n",
       "    </tr>\n",
       "  </thead>\n",
       "  <tbody>\n",
       "    <tr>\n",
       "      <th>0</th>\n",
       "      <td>102</td>\n",
       "      <td>3</td>\n",
       "      <td>58.463855</td>\n",
       "      <td>23.0</td>\n",
       "    </tr>\n",
       "    <tr>\n",
       "      <th>1</th>\n",
       "      <td>105</td>\n",
       "      <td>15</td>\n",
       "      <td>78.621766</td>\n",
       "      <td>25.0</td>\n",
       "    </tr>\n",
       "    <tr>\n",
       "      <th>2</th>\n",
       "      <td>83</td>\n",
       "      <td>2</td>\n",
       "      <td>56.977682</td>\n",
       "      <td>29.0</td>\n",
       "    </tr>\n",
       "    <tr>\n",
       "      <th>3</th>\n",
       "      <td>103</td>\n",
       "      <td>9</td>\n",
       "      <td>74.873786</td>\n",
       "      <td>33.0</td>\n",
       "    </tr>\n",
       "    <tr>\n",
       "      <th>4</th>\n",
       "      <td>97</td>\n",
       "      <td>11</td>\n",
       "      <td>82.345164</td>\n",
       "      <td>36.0</td>\n",
       "    </tr>\n",
       "  </tbody>\n",
       "</table>\n",
       "</div>"
      ],
      "text/plain": [
       "    iq  years_experience     income   age\n",
       "0  102                 3  58.463855  23.0\n",
       "1  105                15  78.621766  25.0\n",
       "2   83                 2  56.977682  29.0\n",
       "3  103                 9  74.873786  33.0\n",
       "4   97                11  82.345164  36.0"
      ]
     },
     "execution_count": 40,
     "metadata": {},
     "output_type": "execute_result"
    }
   ],
   "source": [
    "df['age'] = df.dob.apply(lambda x: (dt.strptime('2017-10-31', '%Y-%m-%d')-x).days/365)\n",
    "df.drop('dob', axis=1, inplace=True) # going down rows axis=0\n",
    "df.head()"
   ]
  },
  {
   "cell_type": "markdown",
   "metadata": {},
   "source": [
    "## 6. Create Model"
   ]
  },
  {
   "cell_type": "code",
   "execution_count": 41,
   "metadata": {},
   "outputs": [
    {
     "name": "stdout",
     "output_type": "stream",
     "text": [
      "(131, 3)\n",
      "(131,)\n"
     ]
    }
   ],
   "source": [
    "# train/test split\n",
    "X = df.iloc[:, [0,1,3]]\n",
    "Y = df.income\n",
    "\n",
    "tr_index = X.sample(frac=0.67).index\n",
    "Xtr = X[X.index.isin(tr_index)].values\n",
    "Xts = X[~X.index.isin(tr_index)].values\n",
    "\n",
    "Ytr = Y[Y.index.isin(tr_index)].values\n",
    "Yts = Y[~Y.index.isin(tr_index)].values\n",
    "\n",
    "print(Xtr.shape)\n",
    "print(Ytr.shape)"
   ]
  },
  {
   "cell_type": "code",
   "execution_count": 42,
   "metadata": {},
   "outputs": [],
   "source": [
    "tf.reset_default_graph()\n",
    "\n",
    "sess = tf.Session()"
   ]
  },
  {
   "cell_type": "code",
   "execution_count": 43,
   "metadata": {},
   "outputs": [],
   "source": [
    "# create parameters\n",
    "w = tf.get_variable(name=\"w\", initializer=[[0.1], [0.1], [0.1]])\n",
    "# create w summaries for tensorboard\n",
    "tf.summary.scalar(\"wmean\", tf.reduce_mean(w))\n",
    "tf.summary.scalar(\"wsum\", tf.reduce_sum(w))\n",
    "tf.summary.histogram(\"weights\", w)\n",
    "\n",
    "# create b summaries for tensorboard\n",
    "b = tf.get_variable(name=\"b\", initializer=0.)\n",
    "tf.summary.scalar(\"intercept\", b)\n",
    "\n",
    "# placeholders\n",
    "x = tf.placeholder(tf.float32, name=\"x\")\n",
    "y = tf.placeholder(tf.float32, name=\"y_true\")\n",
    "\n",
    "# model\n",
    "yhat = tf.reshape(tf.matmul(x, w) + b, [-1,], name=\"yhat\")"
   ]
  },
  {
   "cell_type": "markdown",
   "metadata": {},
   "source": [
    "### create loss and test score functions"
   ]
  },
  {
   "cell_type": "code",
   "execution_count": 44,
   "metadata": {},
   "outputs": [],
   "source": [
    "mse = tf.reduce_mean(tf.square(y - yhat), name=\"mse\")\n",
    "rmse = tf.sqrt(mse, name=\"rmse\")\n",
    "tf.summary.scalar(\"loss_rmse\", rmse)\n",
    "\n",
    "test_nrmse = tf.divide(rmse, tf.abs(tf.reduce_mean(y)), name=\"nrmse\")\n",
    "tf.summary.scalar(\"test_nrmse\", test_nrmse)\n",
    "\n",
    "# merge all summaries and create writer object that will write during training\n",
    "summaries = tf.summary.merge_all()\n",
    "writer = tf.summary.FileWriter(logdir=\"logs/linear_logs\", graph=sess.graph)"
   ]
  },
  {
   "cell_type": "code",
   "execution_count": 45,
   "metadata": {},
   "outputs": [],
   "source": [
    "init = tf.variables_initializer([w, b])\n",
    "sess.run(init)"
   ]
  },
  {
   "cell_type": "code",
   "execution_count": 46,
   "metadata": {},
   "outputs": [
    {
     "name": "stdout",
     "output_type": "stream",
     "text": [
      "Test NRMSE: 0.10370519012212753\n",
      "Test NRMSE: 0.08225972205400467\n",
      "Test NRMSE: 0.06930278986692429\n",
      "Test NRMSE: 0.07505649328231812\n",
      "Test NRMSE: 0.07958540320396423\n",
      "Test NRMSE: 0.0750477984547615\n",
      "Test NRMSE: 0.0772860124707222\n",
      "Test NRMSE: 0.07560711354017258\n",
      "Test NRMSE: 0.07566636800765991\n",
      "Test NRMSE: 0.0761478990316391\n",
      "Test NRMSE: 0.07451006770133972\n",
      "Test NRMSE: 0.07657862454652786\n",
      "Test NRMSE: 0.0736749991774559\n",
      "Test NRMSE: 0.0769052505493164\n",
      "Test NRMSE: 0.0730675458908081\n"
     ]
    }
   ],
   "source": [
    "# reset parameters w and b\n",
    "sess.run(init)\n",
    "\n",
    "opt = tf.train.GradientDescentOptimizer(learning_rate=0.001)\n",
    "train = opt.minimize(rmse)\n",
    "\n",
    "for i in range(800):\n",
    "    if (i%50 == 0) & (i>0):\n",
    "        smry, nrmse = sess.run([summaries, test_nrmse], {x: Xts, y: Yts})\n",
    "        writer.add_summary(smry, i)\n",
    "        print(\"Test NRMSE: {}\".format(nrmse))\n",
    "    else:\n",
    "        smry, _ = sess.run([summaries, train], {x: Xtr, y: Ytr})\n",
    "        writer.add_summary(smry, i)"
   ]
  },
  {
   "cell_type": "code",
   "execution_count": 47,
   "metadata": {},
   "outputs": [
    {
     "data": {
      "text/plain": [
       "[array([[0.27084246],\n",
       "        [1.4098423 ],\n",
       "        [0.92687744]], dtype=float32), 0.026805855]"
      ]
     },
     "execution_count": 47,
     "metadata": {},
     "output_type": "execute_result"
    }
   ],
   "source": [
    "# get learned parameters w and b\n",
    "\n",
    "sess.run([w,b])"
   ]
  },
  {
   "cell_type": "markdown",
   "metadata": {},
   "source": [
    "## Tensorboard\n",
    "\n",
    "* Saving model summaries for Tensorboard\n",
    "\n",
    "* Viewing model summaries for Tensorboard\n",
    "\n",
    "* Exploring Graphs in Tensorboard\n",
    "\n",
    "* Pipeline Basics: Automating preprocessing\n",
    "\n",
    "\n",
    "For examples in summaries, check the earlier code blocks above which contain ``tf.summary`` calls and also the training phase\n",
    "\n",
    "\n",
    "To run tensorboard:\n",
    "```python\n",
    "tensorboard --logdir=tensorflow/logs/linear_logs # replace logdir with target directory\n",
    "```\n",
    "\n",
    "Navigate to localhost:6060 to browse the UI"
   ]
  },
  {
   "cell_type": "markdown",
   "metadata": {},
   "source": [
    "## Preprocessing with TF\n",
    "\n",
    "* Reading in datasets\n",
    "\n",
    "* Iterators (iterate over datasets using TF)\n",
    "  * one-shot\n",
    "  * initializable\n",
    "  * reinitializable\n",
    "  * feedable\n",
    "  \n",
    "* Preprocessing functions\n",
    "  * load and apply transforms\n",
    "\n",
    "* Batching data\n",
    "  \n",
    "  "
   ]
  },
  {
   "cell_type": "markdown",
   "metadata": {},
   "source": [
    "## Reading in datasets\n",
    "\n",
    "### From a numpy array"
   ]
  },
  {
   "cell_type": "code",
   "execution_count": 49,
   "metadata": {},
   "outputs": [],
   "source": [
    "# dumping the above numpy data onto local disk\n",
    "\n",
    "Xtr.dump(\"Xtr.npy\")\n",
    "Ytr.dump(\"ytr.npy\")\n",
    "\n",
    "Xts.dump(\"Xts.npy\")\n",
    "Yts.dump(\"yts.npy\")"
   ]
  },
  {
   "cell_type": "code",
   "execution_count": 50,
   "metadata": {},
   "outputs": [
    {
     "name": "stdout",
     "output_type": "stream",
     "text": [
      "{'x_tr': tf.float64, 'y_tr': tf.float64}\n",
      "{'x_tr': TensorShape([Dimension(3)]), 'y_tr': TensorShape([])}\n"
     ]
    }
   ],
   "source": [
    "Xtr = np.load(\"Xtr.npy\")\n",
    "ytr = np.load(\"ytr.npy\")\n",
    "\n",
    "# create TF dataset\n",
    "training = tf.data.Dataset.from_tensor_slices((Xtr, ytr))\n",
    "\n",
    "training2 = tf.data.Dataset.from_tensor_slices({\"x_tr\": Xtr, \"y_tr\": ytr})\n",
    "\n",
    "print(training2.output_types)\n",
    "print(training2.output_shapes)"
   ]
  },
  {
   "cell_type": "markdown",
   "metadata": {},
   "source": [
    "## Iterators"
   ]
  },
  {
   "cell_type": "code",
   "execution_count": 51,
   "metadata": {},
   "outputs": [
    {
     "data": {
      "text/plain": [
       "131"
      ]
     },
     "execution_count": 51,
     "metadata": {},
     "output_type": "execute_result"
    }
   ],
   "source": [
    "len(Xtr)"
   ]
  },
  {
   "cell_type": "code",
   "execution_count": 54,
   "metadata": {},
   "outputs": [
    {
     "name": "stdout",
     "output_type": "stream",
     "text": [
      "{'x_tr': array([102.,   3.,  23.]), 'y_tr': 58.46385501134321}\n",
      "{'x_tr': array([105.,  15.,  25.]), 'y_tr': 78.62176644725577}\n",
      "{'x_tr': array([103.,   9.,  33.]), 'y_tr': 74.87378602999186}\n",
      "{'x_tr': array([97., 11., 36.]), 'y_tr': 82.3451639232842}\n",
      "{'x_tr': array([106.,   8.,  31.]), 'y_tr': 71.36394232198656}\n",
      "{'x_tr': array([87.,  7., 35.]), 'y_tr': 68.86607199096053}\n",
      "{'x_tr': array([132.,  13.,  24.]), 'y_tr': 84.46497547360381}\n",
      "{'x_tr': array([105.,   3.,  31.]), 'y_tr': 68.07863144488398}\n",
      "{'x_tr': array([130.,   8.,  30.]), 'y_tr': 81.34280301359145}\n",
      "{'x_tr': array([99., 10., 29.]), 'y_tr': 72.82972856214282}\n",
      "{'x_tr': array([99.,  8., 34.]), 'y_tr': 74.10359578913412}\n",
      "{'x_tr': array([114.,   5.,  30.]), 'y_tr': 71.63211227078334}\n",
      "{'x_tr': array([126.,  11.,  28.]), 'y_tr': 84.47719447634135}\n",
      "{'x_tr': array([79., 11., 35.]), 'y_tr': 70.8625728000356}\n",
      "{'x_tr': array([77., 12., 32.]), 'y_tr': 72.78103167247302}\n",
      "{'x_tr': array([100.,  12.,  35.]), 'y_tr': 83.12354807850141}\n",
      "{'x_tr': array([134.,  11.,  25.]), 'y_tr': 82.21480578182427}\n",
      "{'x_tr': array([107.,   0.,  31.]), 'y_tr': 63.6304229670532}\n",
      "{'x_tr': array([85., 11., 35.]), 'y_tr': 78.56469187979704}\n",
      "{'x_tr': array([97., 17., 30.]), 'y_tr': 83.6177156191309}\n",
      "{'x_tr': array([97.,  7., 29.]), 'y_tr': 69.26999662560108}\n",
      "{'x_tr': array([98.,  5., 33.]), 'y_tr': 70.33713871534796}\n",
      "{'x_tr': array([99.,  5., 29.]), 'y_tr': 66.92866650802343}\n",
      "{'x_tr': array([96., 11., 34.]), 'y_tr': 78.59269088257484}\n",
      "{'x_tr': array([123.,  12.,  31.]), 'y_tr': 83.2076776500986}\n",
      "{'x_tr': array([99., 13., 28.]), 'y_tr': 75.33958234375136}\n",
      "{'x_tr': array([83., 15., 33.]), 'y_tr': 78.5513893853179}\n",
      "{'x_tr': array([107.,   1.,  33.]), 'y_tr': 66.61433109291313}\n",
      "{'x_tr': array([94.,  8., 23.]), 'y_tr': 65.59378462617198}\n",
      "{'x_tr': array([75.,  7., 31.]), 'y_tr': 62.55643507608056}\n",
      "{'x_tr': array([99., 14., 29.]), 'y_tr': 80.93948481374724}\n",
      "{'x_tr': array([106.,   6.,  32.]), 'y_tr': 70.83010764671275}\n",
      "{'x_tr': array([120.,   8.,  28.]), 'y_tr': 77.91321736962354}\n",
      "{'x_tr': array([93., 15., 30.]), 'y_tr': 79.4223530055709}\n",
      "{'x_tr': array([81., 13., 32.]), 'y_tr': 72.80731035701088}\n",
      "{'x_tr': array([83.,  4., 38.]), 'y_tr': 68.55178741653346}\n",
      "{'x_tr': array([106.,  12.,  41.]), 'y_tr': 88.659757010847}\n",
      "{'x_tr': array([90., 14., 32.]), 'y_tr': 78.37595001643201}\n",
      "{'x_tr': array([90., 15., 30.]), 'y_tr': 79.67907915925967}\n",
      "{'x_tr': array([116.,  15.,  35.]), 'y_tr': 89.96633035638258}\n",
      "{'x_tr': array([91.,  6., 34.]), 'y_tr': 67.64214152278129}\n",
      "{'x_tr': array([84.,  5., 31.]), 'y_tr': 61.6449691272091}\n",
      "{'x_tr': array([90.,  7., 33.]), 'y_tr': 68.51609895198001}\n",
      "{'x_tr': array([98., 14., 28.]), 'y_tr': 80.35964527715005}\n",
      "{'x_tr': array([102.,  10.,  39.]), 'y_tr': 82.32738955049696}\n",
      "{'x_tr': array([110.,  16.,  33.]), 'y_tr': 88.60251739778863}\n",
      "{'x_tr': array([66., 10., 30.]), 'y_tr': 66.74084087252673}\n",
      "{'x_tr': array([103.,  17.,  39.]), 'y_tr': 92.0045042806686}\n",
      "{'x_tr': array([110.,  15.,  31.]), 'y_tr': 88.39360327554763}\n",
      "{'x_tr': array([107.,   4.,  31.]), 'y_tr': 65.71252770054033}\n",
      "{'x_tr': array([113.,   5.,  29.]), 'y_tr': 68.86853147196973}\n",
      "{'x_tr': array([83.,  5., 24.]), 'y_tr': 59.571324065961605}\n",
      "{'x_tr': array([102.,  12.,  26.]), 'y_tr': 75.63072188441781}\n",
      "{'x_tr': array([112.,   6.,  36.]), 'y_tr': 77.21131293833085}\n",
      "{'x_tr': array([107.,   2.,  31.]), 'y_tr': 65.05847331770318}\n",
      "{'x_tr': array([104.,   9.,  34.]), 'y_tr': 77.51282357257574}\n",
      "{'x_tr': array([82., 21., 30.]), 'y_tr': 86.81782521684737}\n",
      "{'x_tr': array([85.,  7., 36.]), 'y_tr': 70.07526307450873}\n",
      "{'x_tr': array([115.,  13.,  42.]), 'y_tr': 94.59656648890468}\n",
      "{'x_tr': array([87., 15., 40.]), 'y_tr': 86.47037588135537}\n",
      "{'x_tr': array([108.,  16.,  34.]), 'y_tr': 87.87549722142167}\n",
      "{'x_tr': array([115.,   3.,  32.]), 'y_tr': 67.09347927129616}\n",
      "{'x_tr': array([86., 11., 30.]), 'y_tr': 70.84867237334828}\n",
      "{'x_tr': array([112.,   6.,  26.]), 'y_tr': 69.18502124546906}\n",
      "{'x_tr': array([86., 11., 28.]), 'y_tr': 70.72811091593032}\n",
      "{'x_tr': array([76., 13., 38.]), 'y_tr': 79.76060265621557}\n",
      "{'x_tr': array([83., 12., 26.]), 'y_tr': 68.3636364053117}\n",
      "{'x_tr': array([109.,  13.,  31.]), 'y_tr': 80.95876121362353}\n",
      "{'x_tr': array([98., 13., 34.]), 'y_tr': 80.36314342696413}\n",
      "{'x_tr': array([101.,   8.,  35.]), 'y_tr': 79.22977815972156}\n",
      "{'x_tr': array([90., 10., 30.]), 'y_tr': 72.30999915433402}\n",
      "{'x_tr': array([92.,  4., 35.]), 'y_tr': 66.7252792015332}\n",
      "{'x_tr': array([117.,  14.,  27.]), 'y_tr': 80.19142171913691}\n",
      "{'x_tr': array([128.,  11.,  39.]), 'y_tr': 93.22126424072235}\n",
      "{'x_tr': array([86.,  7., 37.]), 'y_tr': 70.23674026629376}\n",
      "{'x_tr': array([100.,  13.,  28.]), 'y_tr': 77.32735525941173}\n",
      "{'x_tr': array([91., 13., 31.]), 'y_tr': 77.69466237413027}\n",
      "{'x_tr': array([115.,   9.,  32.]), 'y_tr': 80.48109294364419}\n",
      "{'x_tr': array([115.,   4.,  32.]), 'y_tr': 70.39553199853061}\n",
      "{'x_tr': array([80., 12., 34.]), 'y_tr': 76.48570566183115}\n",
      "{'x_tr': array([84., 12., 23.]), 'y_tr': 68.28815772470249}\n",
      "{'x_tr': array([98., 18., 32.]), 'y_tr': 87.81127309334308}\n",
      "{'x_tr': array([115.,  10.,  36.]), 'y_tr': 83.89224335831938}\n",
      "{'x_tr': array([95., 12., 32.]), 'y_tr': 78.2756615006316}\n",
      "{'x_tr': array([129.,  18.,  33.]), 'y_tr': 94.76243865531148}\n",
      "{'x_tr': array([95., 10., 23.]), 'y_tr': 68.32932204854248}\n",
      "{'x_tr': array([73.,  5., 26.]), 'y_tr': 56.61417058919603}\n",
      "{'x_tr': array([77.,  9., 31.]), 'y_tr': 67.03365309388548}\n",
      "{'x_tr': array([108.,  16.,  28.]), 'y_tr': 84.70395585320867}\n",
      "{'x_tr': array([124.,   3.,  22.]), 'y_tr': 66.75391373738803}\n",
      "{'x_tr': array([82., 16., 34.]), 'y_tr': 81.49311535735167}\n",
      "{'x_tr': array([82., 13., 37.]), 'y_tr': 78.08323416794283}\n",
      "{'x_tr': array([92., 10., 29.]), 'y_tr': 73.99489456135798}\n",
      "{'x_tr': array([79., 11., 30.]), 'y_tr': 69.6199926992791}\n",
      "{'x_tr': array([105.,   7.,  29.]), 'y_tr': 70.86950259635778}\n",
      "{'x_tr': array([84., 13., 31.]), 'y_tr': 74.42521704244865}\n",
      "{'x_tr': array([101.,   4.,  29.]), 'y_tr': 64.52123764476025}\n",
      "{'x_tr': array([103.,   7.,  37.]), 'y_tr': 77.78686936259103}\n",
      "{'x_tr': array([63.,  3., 33.]), 'y_tr': 57.49043528175151}\n",
      "{'x_tr': array([100.,   1.,  31.]), 'y_tr': 62.04277353684706}\n",
      "{'x_tr': array([108.,   3.,  32.]), 'y_tr': 68.30746800092716}\n",
      "{'x_tr': array([87., 10., 37.]), 'y_tr': 75.24600358292153}\n",
      "{'x_tr': array([92.,  7., 37.]), 'y_tr': 71.18766298812608}\n",
      "{'x_tr': array([90., 10., 40.]), 'y_tr': 79.18920507991764}\n",
      "{'x_tr': array([115.,   9.,  31.]), 'y_tr': 76.80684827578298}\n",
      "{'x_tr': array([90., 10., 29.]), 'y_tr': 69.66794199662236}\n",
      "{'x_tr': array([101.,   9.,  27.]), 'y_tr': 69.86167133404994}\n",
      "{'x_tr': array([83.,  9., 33.]), 'y_tr': 71.09485014249535}\n",
      "{'x_tr': array([89., 16., 37.]), 'y_tr': 86.0133731816947}\n",
      "{'x_tr': array([114.,  11.,  29.]), 'y_tr': 79.06814169876058}\n",
      "{'x_tr': array([106.,   1.,  29.]), 'y_tr': 61.11804081037458}\n",
      "{'x_tr': array([96.,  9., 34.]), 'y_tr': 74.01341500493452}\n",
      "{'x_tr': array([109.,  10.,  27.]), 'y_tr': 71.29528475710354}\n",
      "{'x_tr': array([122.,  10.,  31.]), 'y_tr': 84.27184870555972}\n",
      "{'x_tr': array([74.,  5., 35.]), 'y_tr': 65.06491393732432}\n",
      "{'x_tr': array([98.,  7., 35.]), 'y_tr': 73.13216579744255}\n",
      "{'x_tr': array([98., 11., 30.]), 'y_tr': 74.88094331956717}\n",
      "{'x_tr': array([76.,  6., 28.]), 'y_tr': 57.29154131954588}\n",
      "{'x_tr': array([132.,  11.,  34.]), 'y_tr': 86.74224566140659}\n",
      "{'x_tr': array([108.,   6.,  42.]), 'y_tr': 83.33173498278934}\n",
      "{'x_tr': array([106.,   5.,  36.]), 'y_tr': 73.38363990320184}\n",
      "{'x_tr': array([114.,  11.,  28.]), 'y_tr': 78.29976970734779}\n",
      "{'x_tr': array([98., 19., 33.]), 'y_tr': 90.65124836847649}\n",
      "{'x_tr': array([90., 10., 26.]), 'y_tr': 68.02775052158248}\n",
      "{'x_tr': array([104.,   7.,  33.]), 'y_tr': 73.60246557000693}\n",
      "{'x_tr': array([87., 10., 30.]), 'y_tr': 71.2357010636852}\n",
      "{'x_tr': array([102.,  11.,  31.]), 'y_tr': 79.3550396389382}\n",
      "{'x_tr': array([101.,  12.,  30.]), 'y_tr': 76.7317792268468}\n",
      "{'x_tr': array([84., 14., 32.]), 'y_tr': 78.43058790982815}\n",
      "{'x_tr': array([119.,  10.,  30.]), 'y_tr': 80.75952332075722}\n",
      "{'x_tr': array([117.,   9.,  31.]), 'y_tr': 80.58202687494456}\n"
     ]
    }
   ],
   "source": [
    "iterator = training2.make_one_shot_iterator()\n",
    "next_element = iterator.get_next()\n",
    "\n",
    "for i in range(131):\n",
    "    value = sess.run(next_element)\n",
    "    print(value)"
   ]
  },
  {
   "cell_type": "code",
   "execution_count": 55,
   "metadata": {},
   "outputs": [
    {
     "name": "stdout",
     "output_type": "stream",
     "text": [
      "58.46385501134321\n",
      "78.62176644725577\n",
      "74.87378602999186\n",
      "82.3451639232842\n",
      "71.36394232198656\n",
      "68.86607199096053\n",
      "84.46497547360381\n",
      "68.07863144488398\n",
      "81.34280301359145\n",
      "72.82972856214282\n",
      "74.10359578913412\n",
      "71.63211227078334\n",
      "84.47719447634135\n",
      "70.8625728000356\n",
      "72.78103167247302\n",
      "83.12354807850141\n",
      "82.21480578182427\n",
      "63.6304229670532\n",
      "78.56469187979704\n",
      "83.6177156191309\n",
      "69.26999662560108\n",
      "70.33713871534796\n",
      "66.92866650802343\n",
      "78.59269088257484\n",
      "83.2076776500986\n",
      "75.33958234375136\n",
      "78.5513893853179\n",
      "66.61433109291313\n",
      "65.59378462617198\n",
      "62.55643507608056\n",
      "80.93948481374724\n",
      "70.83010764671275\n",
      "77.91321736962354\n",
      "79.4223530055709\n",
      "72.80731035701088\n",
      "68.55178741653346\n",
      "88.659757010847\n",
      "78.37595001643201\n",
      "79.67907915925967\n",
      "89.96633035638258\n",
      "67.64214152278129\n",
      "61.6449691272091\n",
      "68.51609895198001\n",
      "80.35964527715005\n",
      "82.32738955049696\n",
      "88.60251739778863\n",
      "66.74084087252673\n",
      "92.0045042806686\n",
      "88.39360327554763\n",
      "65.71252770054033\n",
      "68.86853147196973\n",
      "59.571324065961605\n",
      "75.63072188441781\n",
      "77.21131293833085\n",
      "65.05847331770318\n",
      "77.51282357257574\n",
      "86.81782521684737\n",
      "70.07526307450873\n",
      "94.59656648890468\n",
      "86.47037588135537\n",
      "87.87549722142167\n",
      "67.09347927129616\n",
      "70.84867237334828\n",
      "69.18502124546906\n",
      "70.72811091593032\n",
      "79.76060265621557\n",
      "68.3636364053117\n",
      "80.95876121362353\n",
      "80.36314342696413\n",
      "79.22977815972156\n",
      "72.30999915433402\n",
      "66.7252792015332\n",
      "80.19142171913691\n",
      "93.22126424072235\n",
      "70.23674026629376\n",
      "77.32735525941173\n",
      "77.69466237413027\n",
      "80.48109294364419\n",
      "70.39553199853061\n",
      "76.48570566183115\n",
      "68.28815772470249\n",
      "87.81127309334308\n",
      "83.89224335831938\n",
      "78.2756615006316\n",
      "94.76243865531148\n",
      "68.32932204854248\n",
      "56.61417058919603\n",
      "67.03365309388548\n",
      "84.70395585320867\n",
      "66.75391373738803\n",
      "81.49311535735167\n",
      "78.08323416794283\n",
      "73.99489456135798\n",
      "69.6199926992791\n",
      "70.86950259635778\n",
      "74.42521704244865\n",
      "64.52123764476025\n",
      "77.78686936259103\n",
      "57.49043528175151\n",
      "62.04277353684706\n",
      "68.30746800092716\n",
      "75.24600358292153\n",
      "71.18766298812608\n",
      "79.18920507991764\n",
      "76.80684827578298\n",
      "69.66794199662236\n",
      "69.86167133404994\n",
      "71.09485014249535\n",
      "86.0133731816947\n",
      "79.06814169876058\n",
      "61.11804081037458\n",
      "74.01341500493452\n",
      "71.29528475710354\n",
      "84.27184870555972\n",
      "65.06491393732432\n",
      "73.13216579744255\n",
      "74.88094331956717\n",
      "57.29154131954588\n",
      "86.74224566140659\n",
      "83.33173498278934\n",
      "73.38363990320184\n",
      "78.29976970734779\n",
      "90.65124836847649\n",
      "68.02775052158248\n",
      "73.60246557000693\n",
      "71.2357010636852\n",
      "79.3550396389382\n",
      "76.7317792268468\n",
      "78.43058790982815\n",
      "80.75952332075722\n",
      "80.58202687494456\n"
     ]
    }
   ],
   "source": [
    "iterator = training2.make_one_shot_iterator()\n",
    "next_element = iterator.get_next()\n",
    "\n",
    "for i in range(131):\n",
    "    try:\n",
    "        value = sess.run(next_element)\n",
    "        print(value[\"y_tr\"])\n",
    "    except tf.errors.OutOfRangeError as e:\n",
    "        print(\"No more data!\")"
   ]
  },
  {
   "cell_type": "markdown",
   "metadata": {},
   "source": [
    "## Preprocessing\n",
    "\n",
    "__Steps:__\n",
    "\n",
    "1. Define your transformations\n",
    "\n",
    "2. Use `Data.map(f)` where `f` is a transformation"
   ]
  },
  {
   "cell_type": "code",
   "execution_count": 56,
   "metadata": {},
   "outputs": [],
   "source": [
    "# save data to csv without index\n",
    "df.to_csv('data.csv', index=False)"
   ]
  },
  {
   "cell_type": "code",
   "execution_count": 64,
   "metadata": {},
   "outputs": [],
   "source": [
    "# define transformation\n",
    "def input_fn(csv_file, feature_names=['x1', 'x2', 'x3'], noise=True):\n",
    "    def decode_csv_add_noise(line, noise=noise):\n",
    "        parsed_line = tf.decode_csv(line, [[0.], [0.], [0.], [0.]])\n",
    "        label = parsed_line[-1:]\n",
    "        del parsed_line[-1] # delete last element\n",
    "        features = parsed_line\n",
    "        \n",
    "        # add noise to data\n",
    "        if noise:\n",
    "            features = tf.add(features, tf.random_normal(shape=[len(features)], mean=0., stddev=0.1))\n",
    "        \n",
    "        return features, label\n",
    "    \n",
    "    dataset = tf.data.TextLineDataset(csv_file).skip(1).map(decode_csv_add_noise)\n",
    "    \n",
    "    iterator = dataset.make_one_shot_iterator()\n",
    "    features, label = iterator.get_next()\n",
    "    return features, label"
   ]
  },
  {
   "cell_type": "code",
   "execution_count": 71,
   "metadata": {},
   "outputs": [
    {
     "name": "stdout",
     "output_type": "stream",
     "text": [
      "[102.         3.        58.463856] [23.]\n"
     ]
    }
   ],
   "source": [
    "next_ = input_fn(\"data.csv\", noise=False)\n",
    "\n",
    "with tf.Session() as sess:\n",
    "    X, y = sess.run(next_)\n",
    "    print(X, y)"
   ]
  },
  {
   "cell_type": "markdown",
   "metadata": {},
   "source": [
    "## Batching data"
   ]
  },
  {
   "cell_type": "code",
   "execution_count": 73,
   "metadata": {},
   "outputs": [],
   "source": [
    "# define transformation\n",
    "def input_fn(csv_file, feature_names=['x1', 'x2', 'x3'], batch_size=16, noise=True):\n",
    "    def decode_csv_add_noise(line, noise=noise):\n",
    "        parsed_line = tf.decode_csv(line, [[0.], [0.], [0.], [0.]])\n",
    "        label = parsed_line[-1:]\n",
    "        del parsed_line[-1] # delete last element\n",
    "        features = parsed_line\n",
    "        \n",
    "        # add noise to data\n",
    "        if noise:\n",
    "            features = tf.add(features, tf.random_normal(shape=[len(features)], mean=0., stddev=0.1))\n",
    "        \n",
    "        return features, label\n",
    "    \n",
    "    dataset = tf.data.TextLineDataset(csv_file).skip(1).map(decode_csv_add_noise)\n",
    "    \n",
    "    dataset = dataset.batch(batch_size)\n",
    "    iterator = dataset.make_one_shot_iterator()\n",
    "    batch_features, batch_labels = iterator.get_next()\n",
    "    return batch_features, batch_labels"
   ]
  },
  {
   "cell_type": "code",
   "execution_count": 76,
   "metadata": {},
   "outputs": [
    {
     "name": "stdout",
     "output_type": "stream",
     "text": [
      "[[102.         3.        58.463856]\n",
      " [105.        15.        78.621765]\n",
      " [ 83.         2.        56.97768 ]]\n",
      "\n",
      "[[23.]\n",
      " [25.]\n",
      " [29.]]\n"
     ]
    }
   ],
   "source": [
    "next_ = input_fn(\"data.csv\", noise=False, batch_size=3)\n",
    "\n",
    "with tf.Session() as sess:\n",
    "    batch = sess.run(next_)\n",
    "    print(batch[0])\n",
    "    print()\n",
    "    print(batch[1])"
   ]
  },
  {
   "cell_type": "code",
   "execution_count": null,
   "metadata": {},
   "outputs": [],
   "source": []
  }
 ],
 "metadata": {
  "kernelspec": {
   "display_name": "Python 3",
   "language": "python",
   "name": "python3"
  },
  "language_info": {
   "codemirror_mode": {
    "name": "ipython",
    "version": 3
   },
   "file_extension": ".py",
   "mimetype": "text/x-python",
   "name": "python",
   "nbconvert_exporter": "python",
   "pygments_lexer": "ipython3",
   "version": "3.6.5"
  }
 },
 "nbformat": 4,
 "nbformat_minor": 2
}
