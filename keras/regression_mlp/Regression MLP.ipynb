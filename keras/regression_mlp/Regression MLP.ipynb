{
 "cells": [
  {
   "cell_type": "markdown",
   "metadata": {},
   "source": [
    "## Regression\n",
    "\n",
    "Example of building an MLP for a regression problem.\n",
    "\n",
    "The problem is to model the boston housing price dataset from UCI repository.\n",
    "\n",
    "A reasonable evaluation metric, based on other studies conducted on the same problem, is a RMSE of around $4500 which we will use an out evaluation metric."
   ]
  },
  {
   "cell_type": "markdown",
   "metadata": {},
   "source": [
    "## 1 - Import required libs"
   ]
  },
  {
   "cell_type": "code",
   "execution_count": 3,
   "metadata": {},
   "outputs": [],
   "source": [
    "import numpy as np\n",
    "from pandas import read_csv\n",
    "from keras.models import Sequential\n",
    "from keras.layers import Dense\n",
    "from keras.wrappers.scikit_learn import KerasRegressor\n",
    "from sklearn.model_selection import cross_val_score\n",
    "from sklearn.model_selection import KFold\n",
    "from sklearn.preprocessing import StandardScaler\n",
    "from sklearn.pipeline import Pipeline\n",
    "import os"
   ]
  },
  {
   "cell_type": "markdown",
   "metadata": {},
   "source": [
    "## 2 - Load data"
   ]
  },
  {
   "cell_type": "code",
   "execution_count": 5,
   "metadata": {},
   "outputs": [
    {
     "name": "stdout",
     "output_type": "stream",
     "text": [
      "(506, 13)\n",
      "(506,)\n",
      "[6.320e-03 1.800e+01 2.310e+00 0.000e+00 5.380e-01 6.575e+00 6.520e+01\n",
      " 4.090e+00 1.000e+00 2.960e+02 1.530e+01 3.969e+02 4.980e+00]\n",
      "24.0\n"
     ]
    }
   ],
   "source": [
    "seed = 7\n",
    "np.random.seed(seed)\n",
    "\n",
    "absdir = os.path.dirname(os.path.realpath('__file__'))\n",
    "datapath = \"../data/housing.csv\"\n",
    "\n",
    "dataframe = read_csv(os.path.join(absdir, datapath), header=None, delim_whitespace=True)\n",
    "dataset = dataframe.values\n",
    "\n",
    "X = dataset[:, 0:13]\n",
    "y = dataset[:, 13]\n",
    "print(X.shape)\n",
    "print(y.shape)\n",
    "print(X[0])\n",
    "print(y[0])"
   ]
  },
  {
   "cell_type": "markdown",
   "metadata": {},
   "source": [
    "## 3 - Building a base model\n",
    "\n",
    "We iterate by building a base model with the following toplogy:\n",
    "\n",
    "```\n",
    "Input (13) -> Hidden (13) -> Output (1)\n",
    "```"
   ]
  },
  {
   "cell_type": "code",
   "execution_count": 7,
   "metadata": {},
   "outputs": [
    {
     "name": "stdout",
     "output_type": "stream",
     "text": [
      "[-11.06880946 -17.94759935  -7.71836767 -35.42759048 -37.26230825\n",
      " -27.64446202  -7.82347067 -96.4998024  -23.00892148 -23.81627668]\n",
      "Baseline MSE: -28.82 (24.65)\n"
     ]
    }
   ],
   "source": [
    "# define base model\n",
    "def base_model():\n",
    "    model = Sequential()\n",
    "    model.add(Dense(13, input_dim=13, activation=\"relu\", kernel_initializer=\"normal\"))\n",
    "    model.add(Dense(1, kernel_initializer=\"normal\"))\n",
    "    model.compile(loss=\"mean_squared_error\", optimizer=\"adam\")\n",
    "    return model\n",
    "\n",
    "estimator = KerasRegressor(build_fn=base_model, epochs=100, batch_size=5, verbose=0)\n",
    "kfold = KFold(n_splits=10, random_state=seed)\n",
    "results = cross_val_score(estimator, X, y, cv=kfold)\n",
    "print(results)\n",
    "print(\"Baseline MSE: {:.2f} ({:.2f})\".format(results.mean(), results.std()))"
   ]
  },
  {
   "cell_type": "markdown",
   "metadata": {},
   "source": [
    "## 4 - Optimization\n",
    "\n",
    "Try to improve model performance by standardizing the dataset since the various attributes, although numeric, have different scales."
   ]
  }
 ],
 "metadata": {
  "kernelspec": {
   "display_name": "Python 3",
   "language": "python",
   "name": "python3"
  },
  "language_info": {
   "codemirror_mode": {
    "name": "ipython",
    "version": 3
   },
   "file_extension": ".py",
   "mimetype": "text/x-python",
   "name": "python",
   "nbconvert_exporter": "python",
   "pygments_lexer": "ipython3",
   "version": "3.6.5"
  }
 },
 "nbformat": 4,
 "nbformat_minor": 2
}
